{
 "cells": [
  {
   "cell_type": "markdown",
   "metadata": {},
   "source": [
    "# PyGNS3 Examples\n",
    "\n",
    "is a POC / idea for a python package to interact with [GNS3](http://gns3.com).\n",
    "\n",
    "This notebook shows usage examples of implemented functionlity so far. Not exhaustive, work in progress etc etc."
   ]
  },
  {
   "cell_type": "code",
   "execution_count": 1,
   "metadata": {},
   "outputs": [
    {
     "name": "stdout",
     "output_type": "stream",
     "text": [
      "\n",
      "GNS3 Controller API endpoint\n",
      "    Host    http://127.0.0.1:3080\n",
      "    Version 2.0.3\n",
      "    Running 2 Computes\n",
      "\n"
     ]
    }
   ],
   "source": [
    "from pygns3 import *\n",
    "\n",
    "controller = GNS3Controller()\n",
    "print(controller)"
   ]
  },
  {
   "cell_type": "code",
   "execution_count": 2,
   "metadata": {},
   "outputs": [
    {
     "name": "stdout",
     "output_type": "stream",
     "text": [
      "GNS3VM settings:\n",
      "    enable: False\n",
      "    engine: vmware\n",
      "    headless: False\n",
      "    ram: 2048\n",
      "    vcpus: 1\n",
      "    vmname: GNS3 VM\n",
      "    when_exit: stop\n",
      "\n",
      "VMware Fusion: Debian 8.x 64-bit\n",
      "VMware Fusion: OpenSUSE 64-bit\n",
      "VMware Fusion: w2016_Clean\n",
      "VMware Fusion: RHEL72-OC\n",
      "VMware Fusion: GNS3 VM\n",
      "VMware Fusion: W16WORK\n",
      "VMware Fusion: Windows Server 2016\n",
      "VMware Fusion: W16REVERSE\n",
      "VMware Fusion: W16 RESAM v10\n",
      "Remote: GNS3 VM\n"
     ]
    }
   ],
   "source": [
    "gns3vm = GNS3VM()\n",
    "\n",
    "print(gns3vm)\n",
    "\n",
    "for engine in gns3vm.engines:\n",
    "    for vm in engine.vms:\n",
    "        print(f'{engine.name}: {vm}')"
   ]
  },
  {
   "cell_type": "code",
   "execution_count": 3,
   "metadata": {},
   "outputs": [
    {
     "name": "stdout",
     "output_type": "stream",
     "text": [
      "Basic 4 Routers (a1ea2a19-2980-41aa-81ab-f1c80be25ca7)\n",
      "Basic Cloud Connection (5daa48ff-dbd6-407c-a3c6-645e743f233a)\n"
     ]
    }
   ],
   "source": [
    "for project in controller.projects:\n",
    "    print(f'{project.name} ({project.id})')"
   ]
  },
  {
   "cell_type": "code",
   "execution_count": 4,
   "metadata": {},
   "outputs": [
    {
     "name": "stdout",
     "output_type": "stream",
     "text": [
      "GNS3Project settings:\n",
      "    auto_close: True\n",
      "    auto_open: False\n",
      "    auto_start: False\n",
      "    filename: Basic 4 Routers.gns3\n",
      "    name: Basic 4 Routers\n",
      "    path: /Users/maarten/GNS3/Projects/Basic 4 Routers\n",
      "    project_id: a1ea2a19-2980-41aa-81ab-f1c80be25ca7\n",
      "    scene_height: 1000\n",
      "    scene_width: 2000\n",
      "    status: opened\n",
      "\n"
     ]
    }
   ],
   "source": [
    "my_project = GNS3Project('a1ea2a19-2980-41aa-81ab-f1c80be25ca7')\n",
    "print(my_project)"
   ]
  },
  {
   "cell_type": "code",
   "execution_count": 5,
   "metadata": {},
   "outputs": [
    {
     "name": "stdout",
     "output_type": "stream",
     "text": [
      "GNS3 VM (11df1f68-23ab-42f5-9a93-af65b7daad2a)\n",
      "DJ-Johns-MBP (local)\n"
     ]
    }
   ],
   "source": [
    "for compute in controller.computes:\n",
    "    print(f'{compute.name} ({compute.id})')"
   ]
  },
  {
   "cell_type": "code",
   "execution_count": 6,
   "metadata": {},
   "outputs": [
    {
     "name": "stdout",
     "output_type": "stream",
     "text": [
      "GNS3Compute settings:\n",
      "    compute_id: local\n",
      "    connected: True\n",
      "    cpu_usage_percent: 7.9\n",
      "    host: 127.0.0.1\n",
      "    memory_usage_percent: 64.6\n",
      "    name: DJ-Johns-MBP\n",
      "    port: 3080\n",
      "    protocol: http\n",
      "    user: admin\n",
      "    node_types: ['cloud', 'ethernet_hub', 'ethernet_switch', 'vpcs', 'virtualbox', 'dynamips', 'frame_relay_switch', 'atm_switch', 'qemu', 'vmware']\n",
      "    platform: darwin\n",
      "    version: 2.0.3\n",
      "\n",
      "Available images for emulating on dynamips:\n",
      "    c1700-adventerprisek9-mz.124-8.bin\n",
      "    c2600-i-mz.123-9.bin\n",
      "    c2691-entservicesk9-mz.124-13b.bin\n",
      "    c2691-entservicesk9-mz.124-13b.image\n",
      "    c3640-ik9o3s-mz124-13.bin\n",
      "    c3640-ik9o3s-mz124-13.image\n",
      "    c3660-jk9o3s-mz.124-25d.bin\n",
      "    c3725-adventerprisek9-mz124-15.bin\n",
      "    c3725-adventerprisek9-mz124-15.image\n",
      "    c3745-advipservicesk9-mz.124-25d.bin\n",
      "    c7200-advipservicesk9-mz.152-4.S5.bin\n",
      "    c7200-advipservicesk9-mz.152-4.S5.image\n",
      "    c7200p-advipservicesk9-mz.152-4.S5.bin\n"
     ]
    }
   ],
   "source": [
    "my_compute = GNS3Compute('local')\n",
    "print(my_compute)\n",
    "if my_compute.connected:\n",
    "        print(f\"Available images for emulating on dynamips:\")\n",
    "        for image in my_compute.images('dynamips'):\n",
    "            print(f\"    {image.filename}\")"
   ]
  },
  {
   "cell_type": "code",
   "execution_count": null,
   "metadata": {
    "collapsed": true
   },
   "outputs": [],
   "source": []
  }
 ],
 "metadata": {
  "kernelspec": {
   "display_name": "Python 3",
   "language": "python",
   "name": "python3"
  },
  "language_info": {
   "codemirror_mode": {
    "name": "ipython",
    "version": 3
   },
   "file_extension": ".py",
   "mimetype": "text/x-python",
   "name": "python",
   "nbconvert_exporter": "python",
   "pygments_lexer": "ipython3",
   "version": "3.6.2"
  }
 },
 "nbformat": 4,
 "nbformat_minor": 2
}
