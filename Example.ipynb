{
 "cells": [
  {
   "cell_type": "markdown",
   "metadata": {},
   "source": [
    "# PyGNS3 Examples\n",
    "\n",
    "is package to interact with [GNS3](http://gns3.com).\n",
    "\n",
    "[Github repository](https://github.com/mvdwoord/PyGNS3) / \n",
    "[PyPi](https://pypi.python.org/pypi/PyGNS3)\n",
    "\n",
    "This notebook shows examples of implemented functionality so far. Not exhaustive, work in progress etc etc."
   ]
  },
  {
   "cell_type": "code",
   "execution_count": 1,
   "metadata": {},
   "outputs": [
    {
     "name": "stdout",
     "output_type": "stream",
     "text": [
      "\n",
      "GNS3 Controller API endpoint\n",
      "    Host    http://127.0.0.1:3080\n",
      "    Version 2.0.3\n",
      "    Found   2 Projects\n",
      "    Running 2 Computes\n",
      "\n"
     ]
    }
   ],
   "source": [
    "# Minimal setup\n",
    "from pygns3 import *\n",
    "GNS3API.load_configuration()\n",
    "\n",
    "# Main class\n",
    "controller = GNS3Controller()\n",
    "print(controller)"
   ]
  },
  {
   "cell_type": "code",
   "execution_count": 2,
   "metadata": {},
   "outputs": [
    {
     "name": "stdout",
     "output_type": "stream",
     "text": [
      "GNS3 VM                        (11df1f68-23ab-42f5-9a93-af65b7daad2a)\n",
      "DJ-Johns-MacBook-Pro.local     (local)\n"
     ]
    }
   ],
   "source": [
    "for compute in controller.computes:\n",
    "    print(f'{compute.name:{30}} ({compute.id})')"
   ]
  },
  {
   "cell_type": "code",
   "execution_count": 3,
   "metadata": {},
   "outputs": [
    {
     "name": "stdout",
     "output_type": "stream",
     "text": [
      "GNS3Compute settings:\n",
      "    compute_id           local\n",
      "    connected            True\n",
      "    cpu_usage_percent    12.0\n",
      "    host                 127.0.0.1\n",
      "    memory_usage_percent 73.7\n",
      "    name                 DJ-Johns-MacBook-Pro.local\n",
      "    port                 3080\n",
      "    protocol             http\n",
      "    user                 admin\n",
      "    node_types           ['cloud', 'ethernet_hub', 'ethernet_switch', 'vpcs', 'virtualbox', 'dynamips', 'frame_relay_switch', 'atm_switch', 'qemu', 'vmware']\n",
      "    platform             darwin\n",
      "    version              2.0.3\n",
      "\n",
      "Available images for emulating on dynamips:\n",
      "    c1700-adventerprisek9-mz.124-8.bin\n",
      "    c2600-i-mz.123-9.bin\n",
      "    c2691-entservicesk9-mz.124-13b.bin\n",
      "    c2691-entservicesk9-mz.124-13b.image\n",
      "    c3640-ik9o3s-mz124-13.bin\n",
      "    c3640-ik9o3s-mz124-13.image\n",
      "    c3660-jk9o3s-mz.124-25d.bin\n",
      "    c3725-adventerprisek9-mz124-15.bin\n",
      "    c3725-adventerprisek9-mz124-15.image\n",
      "    c3745-advipservicesk9-mz.124-25d.bin\n",
      "    c7200-advipservicesk9-mz.152-4.S5.bin\n",
      "    c7200-advipservicesk9-mz.152-4.S5.image\n",
      "    c7200p-advipservicesk9-mz.152-4.S5.bin\n"
     ]
    }
   ],
   "source": [
    "my_compute = GNS3Compute('local')\n",
    "print(my_compute)\n",
    "if my_compute.connected:\n",
    "        print(f\"Available images for emulating on dynamips:\")\n",
    "        for image in my_compute.images('dynamips'):\n",
    "            print(f\"    {image.filename}\")"
   ]
  },
  {
   "cell_type": "code",
   "execution_count": 4,
   "metadata": {},
   "outputs": [
    {
     "name": "stdout",
     "output_type": "stream",
     "text": [
      "GNS3VM settings:\n",
      "    enable    False\n",
      "    engine    vmware\n",
      "    headless  False\n",
      "    ram       2048\n",
      "    vcpus     1\n",
      "    vmname    GNS3 VM\n",
      "    when_exit stop\n",
      "\n",
      "VMware Fusion   W16WORK\n",
      "VMware Fusion   RHEL72-OC\n",
      "VMware Fusion   W16 RESAM v10\n",
      "VMware Fusion   GNS3 VM\n",
      "VMware Fusion   Debian 8.x 64-bit\n",
      "VMware Fusion   W16REVERSE\n",
      "VMware Fusion   OpenSUSE 64-bit\n",
      "VMware Fusion   w2016_Clean\n",
      "VMware Fusion   Windows Server 2016\n",
      "Remote          GNS3 VM\n"
     ]
    }
   ],
   "source": [
    "gns3vm = GNS3VM()\n",
    "\n",
    "print(gns3vm)\n",
    "\n",
    "for engine in gns3vm.engines:\n",
    "    for vm in engine.vms:\n",
    "        print(f'{engine.name:{15}} {vm}')"
   ]
  },
  {
   "cell_type": "code",
   "execution_count": 5,
   "metadata": {},
   "outputs": [
    {
     "name": "stdout",
     "output_type": "stream",
     "text": [
      "Basic 4 Routers           a1ea2a19-2980-41aa-81ab-f1c80be25ca7\n",
      "Basic Cloud Connection    5daa48ff-dbd6-407c-a3c6-645e743f233a\n"
     ]
    }
   ],
   "source": [
    "for project in controller.projects:\n",
    "    print(f'{project.name:{25}} {project.project_id}')"
   ]
  },
  {
   "cell_type": "code",
   "execution_count": 6,
   "metadata": {},
   "outputs": [
    {
     "name": "stdout",
     "output_type": "stream",
     "text": [
      "GNS3Project settings:\n",
      "    auto_close   True\n",
      "    auto_open    False\n",
      "    auto_start   False\n",
      "    filename     Basic Cloud Connection.gns3\n",
      "    name         Basic Cloud Connection\n",
      "    path         /Users/maarten/GNS3/projects/Basic Cloud Connection\n",
      "    project_id   5daa48ff-dbd6-407c-a3c6-645e743f233a\n",
      "    scene_height 1000\n",
      "    scene_width  2000\n",
      "    status       closed\n",
      "    drawings     0\n",
      "    links        0\n",
      "    nodes        0\n",
      "    snapshots    0\n",
      "\n"
     ]
    }
   ],
   "source": [
    "my_project = GNS3Project('5daa48ff-dbd6-407c-a3c6-645e743f233a')\n",
    "print(my_project)"
   ]
  },
  {
   "cell_type": "code",
   "execution_count": 7,
   "metadata": {},
   "outputs": [
    {
     "name": "stdout",
     "output_type": "stream",
     "text": [
      "GNS3Project settings:\n",
      "    auto_close   True\n",
      "    auto_open    False\n",
      "    auto_start   False\n",
      "    filename     Basic 4 Routers.gns3\n",
      "    name         Basic 4 Routers\n",
      "    path         /Users/maarten/GNS3/Projects/Basic 4 Routers\n",
      "    project_id   a1ea2a19-2980-41aa-81ab-f1c80be25ca7\n",
      "    scene_height 1000\n",
      "    scene_width  2000\n",
      "    status       opened\n",
      "    drawings     6\n",
      "    links        6\n",
      "    nodes        6\n",
      "    snapshots    1\n",
      "\n"
     ]
    }
   ],
   "source": [
    "# Besides grabbing a project from the collection of Controller.projects it is also possible to instantiate by name\n",
    "my_project = GNS3Project.from_name('Basic 4 Routers')\n",
    "print(my_project)"
   ]
  },
  {
   "cell_type": "code",
   "execution_count": 8,
   "metadata": {},
   "outputs": [
    {
     "name": "stdout",
     "output_type": "stream",
     "text": [
      "All nodes have been started.\n",
      "All nodes have been suspended.\n",
      "All nodes have been stopped.\n"
     ]
    }
   ],
   "source": [
    "# You can start, suspend and stop all nodes with a simple method.\n",
    "# If the project is visible in the GUI you can confirm (Whoo blinky lights!)\n",
    "my_project.start_all_nodes()\n",
    "my_project.suspend_all_nodes()\n",
    "my_project.stop_all_nodes()"
   ]
  },
  {
   "cell_type": "code",
   "execution_count": 9,
   "metadata": {},
   "outputs": [
    {
     "name": "stdout",
     "output_type": "stream",
     "text": [
      "GNSNode settings:\n",
      "    command_line       None\n",
      "    compute_id         local\n",
      "    console            5002\n",
      "    console_host       127.0.0.1\n",
      "    console_type       telnet\n",
      "    first_port_name    None\n",
      "    height             45\n",
      "    label              {'rotation': 0, 'style': 'font-family: TypeWriter;font-size: 10.0;font-weight: bold;fill: #000000;fill-opacity: 1.0;', 'text': 'C7200-1', 'x': 8, 'y': 21}\n",
      "    name               C7200-1\n",
      "    node_directory     /Users/maarten/GNS3/Projects/Basic 4 Routers/project-files/dynamips/61c67710-3c63-4f0d-bc4c-9680593e1a19\n",
      "    node_id            61c67710-3c63-4f0d-bc4c-9680593e1a19\n",
      "    node_type          dynamips\n",
      "    port_name_format   Ethernet{0}\n",
      "    port_segment_size  0\n",
      "    ports              7\n",
      "    project_id         a1ea2a19-2980-41aa-81ab-f1c80be25ca7\n",
      "    status             stopped\n",
      "    symbol             :/symbols/router.svg\n",
      "    width              66\n",
      "    x                  117\n",
      "    y                  -173\n",
      "    z                  1\n",
      "\n"
     ]
    }
   ],
   "source": [
    "# Drawings, links, nodes, and snapshots are listed by their number but internally consist of a list of objects\n",
    "# Let's look at a node's settings\n",
    "my_node = my_project.nodes[0]\n",
    "print(my_node)"
   ]
  },
  {
   "cell_type": "code",
   "execution_count": 10,
   "metadata": {
    "scrolled": true
   },
   "outputs": [
    {
     "name": "stdout",
     "output_type": "stream",
     "text": [
      "GNSNodeProperties:\n",
      "    auto_delete_disks       True\n",
      "    aux                     None\n",
      "    clock_divisor           4\n",
      "    disk0                   0\n",
      "    disk1                   0\n",
      "    dynamips_id             1\n",
      "    exec_area               64\n",
      "    idlemax                 500\n",
      "    idlepc                  0x63184bc8\n",
      "    idlesleep               30\n",
      "    image                   c7200-advipservicesk9-mz.152-4.S5.image\n",
      "    image_md5sum            cbbbea66a253f1dac0fcf81274dc778d\n",
      "    mac_addr                ca01.0578.0000\n",
      "    midplane                vxr\n",
      "    mmap                    True\n",
      "    npe                     npe-400\n",
      "    nvram                   512\n",
      "    platform                c7200\n",
      "    power_supplies          [1, 1]\n",
      "    private_config          /Users/maarten/GNS3/projects/Basic 4 Routers/project-files/dynamips/61c67710-3c63-4f0d-bc4c-9680593e1a19/configs/i1_private-config.cfg\n",
      "    private_config_content  \n",
      "end\n",
      "\n",
      "    ram                     512\n",
      "    sensors                 [22, 22, 22, 22]\n",
      "    slot0                   C7200-IO-FE\n",
      "    slot1                   PA-2FE-TX\n",
      "    slot2                   PA-2FE-TX\n",
      "    slot3                   PA-GE\n",
      "    slot4                   PA-GE\n",
      "    slot5                   None\n",
      "    slot6                   None\n",
      "    sparsemem               True\n",
      "    startup_config          configs/i1_startup-config.cfg\n",
      "    startup_config_content  !\n",
      "!\n",
      "!\n",
      "!\n",
      "!\n",
      "!\n",
      "!\n",
      "!\n",
      "!\n",
      "!\n",
      "!\n",
      "!\n",
      "!\n",
      "\n",
      "!\n",
      "! Last configuration change at 13:40:22 UTC Wed Aug 2 2017\n",
      "!\n",
      "version 15.2\n",
      "service timestamps debug datetime msec\n",
      "service timestamps log datetime msec\n",
      "!\n",
      "hostname C7200-1\n",
      "!\n",
      "boot-start-marker\n",
      "boot-end-marker\n",
      "!\n",
      "!\n",
      "!\n",
      "no aaa new-model\n",
      "no ip icmp rate-limit unreachable\n",
      "ip cef\n",
      "!\n",
      "!\n",
      "!\n",
      "!\n",
      "!\n",
      "!\n",
      "no ip domain lookup\n",
      "no ipv6 cef\n",
      "!\n",
      "!\n",
      "multilink bundle-name authenticated\n",
      "!\n",
      "!\n",
      "!\n",
      "!\n",
      "!\n",
      "!\n",
      "!\n",
      "!\n",
      "!\n",
      "ip tcp synwait-time 5\n",
      "! \n",
      "!\n",
      "!\n",
      "!\n",
      "!\n",
      "!\n",
      "!\n",
      "!\n",
      "!\n",
      "!\n",
      "!\n",
      "!\n",
      "interface FastEthernet0/0\n",
      " ip address 10.0.0.2 255.255.255.252\n",
      " duplex full\n",
      "!\n",
      "interface FastEthernet1/0\n",
      " ip address 10.0.0.5 255.255.255.252\n",
      " speed auto\n",
      " duplex full\n",
      "!\n",
      "interface FastEthernet1/1\n",
      " no ip address\n",
      " shutdown\n",
      " speed auto\n",
      " duplex auto\n",
      "!\n",
      "interface FastEthernet2/0\n",
      " no ip address\n",
      " shutdown\n",
      " speed auto\n",
      " duplex auto\n",
      "!\n",
      "interface FastEthernet2/1\n",
      " no ip address\n",
      " shutdown\n",
      " speed auto\n",
      " duplex auto\n",
      "!\n",
      "interface GigabitEthernet3/0\n",
      " no ip address\n",
      " shutdown\n",
      " negotiation auto\n",
      "!\n",
      "interface GigabitEthernet4/0\n",
      " no ip address\n",
      " shutdown\n",
      " negotiation auto\n",
      "!\n",
      "ip forward-protocol nd\n",
      "!\n",
      "!\n",
      "no ip http server\n",
      "no ip http secure-server\n",
      "!\n",
      "!\n",
      "!\n",
      "!\n",
      "control-plane\n",
      "!\n",
      "!\n",
      "line con 0\n",
      " exec-timeout 0 0\n",
      " privilege level 15\n",
      " logging synchronous\n",
      " stopbits 1\n",
      "line aux 0\n",
      " exec-timeout 0 0\n",
      " privilege level 15\n",
      " logging synchronous\n",
      " stopbits 1\n",
      "line vty 0 4\n",
      " login\n",
      "!\n",
      "!\n",
      "end\n",
      "\n",
      "    system_id               FTX0945W0MY\n",
      "\n"
     ]
    }
   ],
   "source": [
    "# There are also properties defined on a node\n",
    "print(my_node.properties)"
   ]
  },
  {
   "cell_type": "code",
   "execution_count": 11,
   "metadata": {},
   "outputs": [
    {
     "name": "stdout",
     "output_type": "stream",
     "text": [
      "GNSNodePort:\n",
      "    adapter_number   0\n",
      "    data_link_types  {'Ethernet': 'DLT_EN10MB'}\n",
      "    link_type        ethernet\n",
      "    name             FastEthernet0/0\n",
      "    port_number      0\n",
      "    short_name       f0/0\n",
      "\n"
     ]
    }
   ],
   "source": [
    "# Similarly the ports of a node are internally represented as a list of GNS3NodePort objects\n",
    "print(my_node.ports[0])"
   ]
  },
  {
   "cell_type": "code",
   "execution_count": 12,
   "metadata": {},
   "outputs": [
    {
     "name": "stdout",
     "output_type": "stream",
     "text": [
      "GNS3Link settings:\n",
      "    capture_file_name  None\n",
      "    capture_file_path  None\n",
      "    capturing          False\n",
      "    link_id            ec8cc0f1-455a-4c85-adf6-dc1083721cc5\n",
      "    link_type          ethernet\n",
      "    project_id         a1ea2a19-2980-41aa-81ab-f1c80be25ca7\n",
      "    from               C3725-1 (f0/1)\n",
      "    to                 C7200-2 (f0/0)\n",
      "\n"
     ]
    }
   ],
   "source": [
    "# Links between nodes can currently only be displayed (later also created / deleted / captured)\n",
    "print(my_project.links[0])"
   ]
  },
  {
   "cell_type": "code",
   "execution_count": 13,
   "metadata": {},
   "outputs": [
    {
     "name": "stdout",
     "output_type": "stream",
     "text": [
      "C3725-1 on port f0/1 is connected over ethernet to C7200-2 on port f0/0\n",
      "C7200-1 on port f1/0 is connected over ethernet to C3725-2 on port f1/0\n",
      "C3725-2 on port f2/0 is connected over ethernet to PC2 on port e0\n",
      "PC1 on port e0 is connected over ethernet to C3725-1 on port f2/0\n",
      "C3725-1 on port f0/0 is connected over ethernet to C7200-1 on port f0/0\n",
      "C7200-2 on port f1/0 is connected over ethernet to C3725-2 on port f0/1\n"
     ]
    }
   ],
   "source": [
    "# Some pretty printing can be done like this\n",
    "for link in my_project.links:\n",
    "    print(f'{link.from_node.name} on port {link.from_port_name} is connected over {link.link_type} '\n",
    "          f'to {link.to_node.name} on port {link.to_port_name}')"
   ]
  },
  {
   "cell_type": "code",
   "execution_count": 14,
   "metadata": {},
   "outputs": [
    {
     "name": "stdout",
     "output_type": "stream",
     "text": [
      "GNS3Snapshot settings:\n",
      "    created_at   1502551604\n",
      "    name         Test Snapshot\n",
      "    project_id   a1ea2a19-2980-41aa-81ab-f1c80be25ca7\n",
      "    snapshot_id  618b6734-6228-43fc-822a-49343d13718d\n",
      "\n"
     ]
    }
   ],
   "source": [
    "# Available snapshots can be viewed (and soon also created and deleted)\n",
    "print(my_project.snapshots[0])"
   ]
  },
  {
   "cell_type": "code",
   "execution_count": 15,
   "metadata": {},
   "outputs": [
    {
     "name": "stdout",
     "output_type": "stream",
     "text": [
      "GNS3Drawing:\n",
      "    drawing_id  dc218a7f-221d-4340-9902-4d2c1726e081\n",
      "    project_id  a1ea2a19-2980-41aa-81ab-f1c80be25ca7\n",
      "    rotation    0\n",
      "    svg         <svg height=\"20\" width=\"67\"><text fill=\"#000000\" fill-opacity=\"1.0\" font-family=\"TypeWriter\" font-size=\"10.0\" font-weight=\"bold\">10.0.0.8/30</text></svg>\n",
      "    x           -298\n",
      "    y           -16\n",
      "    z           1\n",
      "\n"
     ]
    }
   ],
   "source": [
    "# Drawing objects can be inspected\n",
    "my_drawing = my_project.drawings[0]\n",
    "print(my_drawing)"
   ]
  },
  {
   "cell_type": "code",
   "execution_count": 16,
   "metadata": {},
   "outputs": [
    {
     "data": {
      "image/svg+xml": [
       "<svg height=\"20\" width=\"67\"><text fill=\"#000000\" fill-opacity=\"1.0\" font-family=\"TypeWriter\" font-size=\"10.0\" font-weight=\"bold\">10.0.0.8/30</text></svg>"
      ],
      "text/plain": [
       "<IPython.core.display.SVG object>"
      ]
     },
     "metadata": {},
     "output_type": "display_data"
    }
   ],
   "source": [
    "# In theory this should work, not sure what's going wrong here. SVG from URL renders fine. #CheckLater\n",
    "from IPython.display import SVG, display\n",
    "display(SVG(data=my_drawing.svg))\n",
    "# Would have been nice but isn't a priority"
   ]
  }
 ],
 "metadata": {
  "kernelspec": {
   "display_name": "Python 3",
   "language": "python",
   "name": "python3"
  },
  "language_info": {
   "codemirror_mode": {
    "name": "ipython",
    "version": 3
   },
   "file_extension": ".py",
   "mimetype": "text/x-python",
   "name": "python",
   "nbconvert_exporter": "python",
   "pygments_lexer": "ipython3",
   "version": "3.6.2"
  }
 },
 "nbformat": 4,
 "nbformat_minor": 2
}
