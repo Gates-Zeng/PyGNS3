{
 "cells": [
  {
   "cell_type": "markdown",
   "metadata": {},
   "source": [
    "# PyGNS3\n",
    "\n",
    "is a POC / idea for a python package to interact with [GNS3](http://gns3.com).\n",
    "\n",
    "It leverages the GNS3 built in API and aims to provide some additional functionality such as custom/bulk interaction with projects and nodes. I have started using GNS3 recently so walking multiple learning curves here. Any ideas / suggestions / constructive criticism is more than welcome.\n",
    "\n",
    "## GNS3Controller\n",
    "\n",
    "is the main component interacting with GNS3. It attempts to find a valid gns3_server.conf file to grab IP / port / credentials for the WebAPI. After a succesful connection the controller object holds some basic properties and allow further inspection and interaction with GNS3.\n",
    "\n",
    "## What is the purpose?\n",
    "\n",
    "As I am learning and working with GNS3 I'm not sure what exactly this should lead to, but the first thibg that comes to mind is parallel commands towards nodes, or other (bulk) manipulations. Not sure what other scenario's will look like but I guess being able to interact with GNS3 from python could come in handy here or there."
   ]
  },
  {
   "cell_type": "code",
   "execution_count": 18,
   "metadata": {},
   "outputs": [
    {
     "name": "stdout",
     "output_type": "stream",
     "text": [
      "\n",
      "GNS3 Controller API endpoint\n",
      "    Host    127.0.0.1:3080\n",
      "    Version 2.0.3\n",
      "    Running 2 Computes\n",
      "        GNS3 VM\n",
      "        DJ-Johns-MBP.fritz.box\n",
      "        \n",
      "Projects folder /Users/maarten/GNS3/projects\n",
      "    Basic Cloud Connection\n",
      "    Basic4 Routers\n"
     ]
    }
   ],
   "source": [
    "import pygns3\n",
    "\n",
    "controller = pygns3.GNS3Controller()\n",
    "print(controller)"
   ]
  },
  {
   "cell_type": "code",
   "execution_count": 19,
   "metadata": {},
   "outputs": [
    {
     "name": "stdout",
     "output_type": "stream",
     "text": [
      "{'capabilities': {'node_types': [], 'version': None}, 'compute_id': '11df1f68-23ab-42f5-9a93-af65b7daad2a', 'connected': False, 'cpu_usage_percent': None, 'host': '192.168.25.128', 'memory_usage_percent': None, 'name': 'GNS3 VM', 'port': 3080, 'protocol': 'http', 'user': None}\n",
      "{'capabilities': {'node_types': ['cloud', 'ethernet_hub', 'ethernet_switch', 'vpcs', 'virtualbox', 'dynamips', 'frame_relay_switch', 'atm_switch', 'qemu', 'vmware'], 'platform': 'darwin', 'version': '2.0.3'}, 'compute_id': 'local', 'connected': True, 'cpu_usage_percent': 1.6, 'host': '127.0.0.1', 'memory_usage_percent': 65.7, 'name': 'DJ-Johns-MBP.fritz.box', 'port': 3080, 'protocol': 'http', 'user': 'admin'}\n"
     ]
    }
   ],
   "source": [
    "for compute in controller.computes:\n",
    "    print(\"{}\".format(compute))"
   ]
  },
  {
   "cell_type": "code",
   "execution_count": null,
   "metadata": {
    "collapsed": true
   },
   "outputs": [],
   "source": []
  }
 ],
 "metadata": {
  "kernelspec": {
   "display_name": "Python 3",
   "language": "python",
   "name": "python3"
  },
  "language_info": {
   "codemirror_mode": {
    "name": "ipython",
    "version": 3
   },
   "file_extension": ".py",
   "mimetype": "text/x-python",
   "name": "python",
   "nbconvert_exporter": "python",
   "pygments_lexer": "ipython3",
   "version": "3.6.2"
  }
 },
 "nbformat": 4,
 "nbformat_minor": 2
}
