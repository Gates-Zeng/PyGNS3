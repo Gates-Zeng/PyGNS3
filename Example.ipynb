{
 "cells": [
  {
   "cell_type": "markdown",
   "metadata": {},
   "source": [
    "# PyGNS3 Examples\n",
    "\n",
    "is package to interact with [GNS3](http://gns3.com).\n",
    "\n",
    "[Github repository](https://github.com/mvdwoord/PyGNS3) / \n",
    "[PyPi](https://pypi.python.org/pypi/PyGNS3)\n",
    "\n",
    "This notebook shows examples of implemented functionality so far. Not exhaustive, work in progress etc etc."
   ]
  },
  {
   "cell_type": "code",
   "execution_count": 1,
   "metadata": {},
   "outputs": [
    {
     "name": "stdout",
     "output_type": "stream",
     "text": [
      "\n",
      "GNS3 Controller API endpoint\n",
      "    Host    http://127.0.0.1:3080\n",
      "    Version 2.0.3\n",
      "    Found   2 Projects\n",
      "    Running 2 Computes\n",
      "\n"
     ]
    }
   ],
   "source": [
    "# Minimal setup\n",
    "from pygns3 import *\n",
    "GNS3API.load_configuration()\n",
    "\n",
    "# Main class\n",
    "controller = GNS3Controller()\n",
    "print(controller)"
   ]
  },
  {
   "cell_type": "code",
   "execution_count": 2,
   "metadata": {},
   "outputs": [
    {
     "name": "stdout",
     "output_type": "stream",
     "text": [
      "GNS3 VM                        (11df1f68-23ab-42f5-9a93-af65b7daad2a)\n",
      "DJ-Johns-MacBook-Pro.local     (local)\n"
     ]
    }
   ],
   "source": [
    "for compute in controller.computes:\n",
    "    print(f'{compute.name:{30}} ({compute.id})')"
   ]
  },
  {
   "cell_type": "code",
   "execution_count": 3,
   "metadata": {},
   "outputs": [
    {
     "name": "stdout",
     "output_type": "stream",
     "text": [
      "GNS3Compute settings:\n",
      "    compute_id           local\n",
      "    connected            True\n",
      "    cpu_usage_percent    9.1\n",
      "    host                 127.0.0.1\n",
      "    memory_usage_percent 73.0\n",
      "    name                 DJ-Johns-MacBook-Pro.local\n",
      "    port                 3080\n",
      "    protocol             http\n",
      "    user                 admin\n",
      "    node_types           ['cloud', 'ethernet_hub', 'ethernet_switch', 'vpcs', 'virtualbox', 'dynamips', 'frame_relay_switch', 'atm_switch', 'qemu', 'vmware']\n",
      "    platform             darwin\n",
      "    version              2.0.3\n",
      "\n",
      "Available images for emulating on dynamips:\n",
      "    c1700-adventerprisek9-mz.124-8.bin\n",
      "    c2600-i-mz.123-9.bin\n",
      "    c2691-entservicesk9-mz.124-13b.bin\n",
      "    c2691-entservicesk9-mz.124-13b.image\n",
      "    c3640-ik9o3s-mz124-13.bin\n",
      "    c3640-ik9o3s-mz124-13.image\n",
      "    c3660-jk9o3s-mz.124-25d.bin\n",
      "    c3725-adventerprisek9-mz124-15.bin\n",
      "    c3725-adventerprisek9-mz124-15.image\n",
      "    c3745-advipservicesk9-mz.124-25d.bin\n",
      "    c7200-advipservicesk9-mz.152-4.S5.bin\n",
      "    c7200-advipservicesk9-mz.152-4.S5.image\n",
      "    c7200p-advipservicesk9-mz.152-4.S5.bin\n"
     ]
    }
   ],
   "source": [
    "my_compute = GNS3Compute('local')\n",
    "print(my_compute)\n",
    "if my_compute.connected:\n",
    "        print(f\"Available images for emulating on dynamips:\")\n",
    "        for image in my_compute.images('dynamips'):\n",
    "            print(f\"    {image.filename}\")"
   ]
  },
  {
   "cell_type": "code",
   "execution_count": 4,
   "metadata": {},
   "outputs": [
    {
     "name": "stdout",
     "output_type": "stream",
     "text": [
      "GNS3VM settings:\n",
      "    enable    False\n",
      "    engine    vmware\n",
      "    headless  False\n",
      "    ram       2048\n",
      "    vcpus     1\n",
      "    vmname    GNS3 VM\n",
      "    when_exit stop\n",
      "\n",
      "VMware Fusion   W16WORK\n",
      "VMware Fusion   RHEL72-OC\n",
      "VMware Fusion   W16 RESAM v10\n",
      "VMware Fusion   GNS3 VM\n",
      "VMware Fusion   Debian 8.x 64-bit\n",
      "VMware Fusion   W16REVERSE\n",
      "VMware Fusion   OpenSUSE 64-bit\n",
      "VMware Fusion   w2016_Clean\n",
      "VMware Fusion   Windows Server 2016\n",
      "Remote          GNS3 VM\n"
     ]
    }
   ],
   "source": [
    "gns3vm = GNS3VM()\n",
    "\n",
    "print(gns3vm)\n",
    "\n",
    "for engine in gns3vm.engines:\n",
    "    for vm in engine.vms:\n",
    "        print(f'{engine.name:{15}} {vm}')"
   ]
  },
  {
   "cell_type": "code",
   "execution_count": 5,
   "metadata": {},
   "outputs": [
    {
     "name": "stdout",
     "output_type": "stream",
     "text": [
      "Basic 4 Routers           a1ea2a19-2980-41aa-81ab-f1c80be25ca7\n",
      "Basic Cloud Connection    5daa48ff-dbd6-407c-a3c6-645e743f233a\n"
     ]
    }
   ],
   "source": [
    "for project in controller.projects:\n",
    "    print(f'{project.name:{25}} {project.project_id}')"
   ]
  },
  {
   "cell_type": "code",
   "execution_count": 6,
   "metadata": {},
   "outputs": [
    {
     "name": "stdout",
     "output_type": "stream",
     "text": [
      "GNS3Project settings:\n",
      "    auto_close   True\n",
      "    auto_open    False\n",
      "    auto_start   False\n",
      "    filename     Basic Cloud Connection.gns3\n",
      "    name         Basic Cloud Connection\n",
      "    path         /Users/maarten/GNS3/projects/Basic Cloud Connection\n",
      "    project_id   5daa48ff-dbd6-407c-a3c6-645e743f233a\n",
      "    scene_height 1000\n",
      "    scene_width  2000\n",
      "    status       closed\n",
      "    drawings     0\n",
      "    links        0\n",
      "    snapshots    0\n",
      "\n"
     ]
    }
   ],
   "source": [
    "my_project = GNS3Project('5daa48ff-dbd6-407c-a3c6-645e743f233a')\n",
    "print(my_project)"
   ]
  },
  {
   "cell_type": "code",
   "execution_count": 7,
   "metadata": {},
   "outputs": [
    {
     "name": "stdout",
     "output_type": "stream",
     "text": [
      "GNS3Project settings:\n",
      "    auto_close   True\n",
      "    auto_open    False\n",
      "    auto_start   False\n",
      "    filename     Basic 4 Routers.gns3\n",
      "    name         Basic 4 Routers\n",
      "    path         /Users/maarten/GNS3/Projects/Basic 4 Routers\n",
      "    project_id   a1ea2a19-2980-41aa-81ab-f1c80be25ca7\n",
      "    scene_height 1000\n",
      "    scene_width  2000\n",
      "    status       opened\n",
      "    drawings     6\n",
      "    links        6\n",
      "    snapshots    1\n",
      "\n"
     ]
    }
   ],
   "source": [
    "# Besides grabbing a project from the collection of Controller.projects it is also possible to instantiate by name\n",
    "my_project = GNS3Project.from_name('Basic 4 Routers')\n",
    "print(my_project)"
   ]
  },
  {
   "cell_type": "code",
   "execution_count": 8,
   "metadata": {},
   "outputs": [
    {
     "name": "stdout",
     "output_type": "stream",
     "text": [
      "All nodes have been started.\n",
      "All nodes have been suspended.\n",
      "All nodes have been stopped.\n"
     ]
    }
   ],
   "source": [
    "# You can start, suspend and stop all nodes with a simple method.\n",
    "# If the project is visible in the GUI you can confirm\n",
    "my_project.start_all_nodes()\n",
    "my_project.suspend_all_nodes()\n",
    "my_project.stop_all_nodes()"
   ]
  },
  {
   "cell_type": "code",
   "execution_count": 9,
   "metadata": {},
   "outputs": [
    {
     "name": "stdout",
     "output_type": "stream",
     "text": [
      "GNS3Link settings:\n",
      "    capture_file_name  None\n",
      "    capture_file_path  None\n",
      "    capturing          False\n",
      "    link_id            ec8cc0f1-455a-4c85-adf6-dc1083721cc5\n",
      "    link_type          ethernet\n",
      "    project_id         a1ea2a19-2980-41aa-81ab-f1c80be25ca7\n",
      "\n",
      "    From node:{'adapter_number': 0, 'label': {'rotation': 0, 'style': 'font-family: TypeWriter;font-size: 10.0;font-weight: bold;fill: #000000;fill-opacity: 1.0;', 'text': 'f0/1', 'x': 33, 'y': 62}, 'node_id': 'df2f8f9c-23cf-4001-a1d1-834f0ff66436', 'port_number': 1}\n",
      "    To node:{'adapter_number': 0, 'label': {'rotation': 0, 'style': 'font-family: TypeWriter;font-size: 10.0;font-weight: bold;fill: #000000;fill-opacity: 1.0;', 'text': 'f0/0', 'x': 45, 'y': -26}, 'node_id': '7e6c9433-dbab-4b34-a731-2b43a7f77fef', 'port_number': 0}\n"
     ]
    }
   ],
   "source": [
    "# Links between nodes can currently only be displayed (later also created / deleted / captured)\n",
    "# Links will be prettier once nodes have been implemented\n",
    "print(my_project.links[0])"
   ]
  },
  {
   "cell_type": "code",
   "execution_count": 10,
   "metadata": {},
   "outputs": [],
   "source": [
    "# The project can be closed and opened again (opening is not reflected in the GUI !)\n",
    "# Disabled for now, something is fishy here...\n",
    "#my_project.close()\n",
    "#print(my_project.status)\n",
    "#my_project.open()\n",
    "#print(my_project.status)"
   ]
  },
  {
   "cell_type": "code",
   "execution_count": 11,
   "metadata": {},
   "outputs": [
    {
     "name": "stdout",
     "output_type": "stream",
     "text": [
      "GNS3Snapshot settings:\n",
      "    created_at   1502551604\n",
      "    name         Test Snapshot\n",
      "    project_id   a1ea2a19-2980-41aa-81ab-f1c80be25ca7\n",
      "    snapshot_id  618b6734-6228-43fc-822a-49343d13718d\n",
      "\n"
     ]
    }
   ],
   "source": [
    "# Available snapshots can be viewed (and soon also created and deleted)\n",
    "print(my_project.snapshots[0])"
   ]
  },
  {
   "cell_type": "code",
   "execution_count": 12,
   "metadata": {},
   "outputs": [
    {
     "name": "stdout",
     "output_type": "stream",
     "text": [
      "GNS3Drawing settings:\n",
      "    drawing_id  dc218a7f-221d-4340-9902-4d2c1726e081\n",
      "    project_id  a1ea2a19-2980-41aa-81ab-f1c80be25ca7\n",
      "    rotation    0\n",
      "    svg         <svg height=\"20\" width=\"67\"><text fill=\"#000000\" fill-opacity=\"1.0\" font-family=\"TypeWriter\" font-size=\"10.0\" font-weight=\"bold\">10.0.0.8/30</text></svg>\n",
      "    x           -298\n",
      "    y           -16\n",
      "    z           1\n",
      "\n"
     ]
    }
   ],
   "source": [
    "# Drawing objects can be inspected\n",
    "my_drawing = my_project.drawings[0]\n",
    "print(my_drawing)"
   ]
  },
  {
   "cell_type": "code",
   "execution_count": 13,
   "metadata": {},
   "outputs": [
    {
     "data": {
      "image/svg+xml": [
       "<svg height=\"20\" width=\"67\"><text fill=\"#000000\" fill-opacity=\"1.0\" font-family=\"TypeWriter\" font-size=\"10.0\" font-weight=\"bold\">10.0.0.8/30</text></svg>"
      ],
      "text/plain": [
       "<IPython.core.display.SVG object>"
      ]
     },
     "metadata": {},
     "output_type": "display_data"
    }
   ],
   "source": [
    "# In theory this should work, not sure what's going wrong here. SVG from URL renders fine. #CheckLater\n",
    "from IPython.display import SVG, display\n",
    "display(SVG(data=my_drawing.svg))\n",
    "# Would have been nice but isn't a priority"
   ]
  }
 ],
 "metadata": {
  "kernelspec": {
   "display_name": "Python 3",
   "language": "python",
   "name": "python3"
  },
  "language_info": {
   "codemirror_mode": {
    "name": "ipython",
    "version": 3
   },
   "file_extension": ".py",
   "mimetype": "text/x-python",
   "name": "python",
   "nbconvert_exporter": "python",
   "pygments_lexer": "ipython3",
   "version": "3.6.2"
  }
 },
 "nbformat": 4,
 "nbformat_minor": 2
}
