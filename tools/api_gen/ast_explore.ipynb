{
 "cells": [
  {
   "cell_type": "markdown",
   "metadata": {},
   "source": [
    "# AST - Abstract Syntax Tree\n",
    "\n",
    "For reasons, I want to parse a python source code file and extract certain elements. The case in point involves looking for all functions with a given decorator applied and return certain attributes of the function declaration.\n",
    "\n",
    "When assuming a certain coding style, this could probably be done with a handful of lines or even a regex. This becomes problematic if youu want to be able to properly parse any and all (valid) python code. You'll soon find yourself reinventing the (lexer-)wheel which is already available in Python itsself.\n",
    "\n",
    "Thanks to others, there is a built-in ast module which parses Python source code into an AST. The AST can then be inspected and modified, and even recompiled into source code. In our case we are only interested in inspection."
   ]
  },
  {
   "cell_type": "code",
   "execution_count": 1,
   "metadata": {
    "collapsed": true
   },
   "outputs": [],
   "source": [
    "import ast\n",
    "example_module = '''\n",
    "@my_decorator\n",
    "def my_function(my_argument):\n",
    "    \"\"\"My Docstring\"\"\"\n",
    "    my_value = 420\n",
    "    return my_value\n",
    "    \n",
    "def foo():\n",
    "    pass\n",
    "    \n",
    "@Some_decorator\n",
    "@Another_decorator\n",
    "def bar():\n",
    "    pass\n",
    "    \n",
    "@MyClass.subpackage.my_deco_function    \n",
    "def baz():\n",
    "    pass'''"
   ]
  },
  {
   "cell_type": "markdown",
   "metadata": {},
   "source": [
    "The [ast module](https://docs.python.org/3/library/ast.html) \"helps Python applications to process trees of the Python abstract syntax grammar. The abstract syntax itself might change with each Python release; this module helps to find out programmatically what the current grammar looks like.\"\n",
    "\n",
    "The tree of objects all inherit from ast.AST and the actual types and their properties can be found in the so called ASDL. The actual grammar of python as defined in the Zephyr Abstract Syntax Definition Language. The grammar file can be found in the Python sources at [Parser/python.asdl](https://github.com/python/cpython/blob/master/Parser/Python.asdl)."
   ]
  },
  {
   "cell_type": "code",
   "execution_count": 2,
   "metadata": {},
   "outputs": [
    {
     "name": "stdout",
     "output_type": "stream",
     "text": [
      "<_ast.Module object at 0x10ec9d668>\n"
     ]
    }
   ],
   "source": [
    "tree = ast.parse(example_module)\n",
    "print(tree) # the object"
   ]
  },
  {
   "cell_type": "code",
   "execution_count": 3,
   "metadata": {},
   "outputs": [
    {
     "name": "stdout",
     "output_type": "stream",
     "text": [
      "Module(body=[FunctionDef(name='my_function', args=arguments(args=[arg(arg='my_argument', annotation=None)], vararg=None, kwonlyargs=[], kw_defaults=[], kwarg=None, defaults=[]), body=[Expr(value=Str(s='My Docstring')), Assign(targets=[Name(id='my_value', ctx=Store())], value=Num(n=420)), Return(value=Name(id='my_value', ctx=Load()))], decorator_list=[Name(id='my_decorator', ctx=Load())], returns=None), FunctionDef(name='foo', args=arguments(args=[], vararg=None, kwonlyargs=[], kw_defaults=[], kwarg=None, defaults=[]), body=[Pass()], decorator_list=[], returns=None), FunctionDef(name='bar', args=arguments(args=[], vararg=None, kwonlyargs=[], kw_defaults=[], kwarg=None, defaults=[]), body=[Pass()], decorator_list=[Name(id='Some_decorator', ctx=Load()), Name(id='Another_decorator', ctx=Load())], returns=None), FunctionDef(name='baz', args=arguments(args=[], vararg=None, kwonlyargs=[], kw_defaults=[], kwarg=None, defaults=[]), body=[Pass()], decorator_list=[Attribute(value=Attribute(value=Name(id='MyClass', ctx=Load()), attr='subpackage', ctx=Load()), attr='my_deco_function', ctx=Load())], returns=None)])\n"
     ]
    }
   ],
   "source": [
    "# Built in dump method shows the actual content of the entire tree\n",
    "print(ast.dump(ast.parse(example_module)))"
   ]
  },
  {
   "cell_type": "markdown",
   "metadata": {},
   "source": [
    "The [astunparse]() module helps in pretty printing the tree, which we rely heavy upon during exploration."
   ]
  },
  {
   "cell_type": "code",
   "execution_count": 20,
   "metadata": {},
   "outputs": [
    {
     "name": "stdout",
     "output_type": "stream",
     "text": [
      "Module(body=[\n",
      "  FunctionDef(\n",
      "    name='my_function',\n",
      "    args=arguments(\n",
      "      args=[arg(\n",
      "        arg='my_argument',\n",
      "        annotation=None)],\n",
      "      vararg=None,\n",
      "      kwonlyargs=[],\n",
      "      kw_defaults=[],\n",
      "      kwarg=None,\n",
      "      defaults=[]),\n",
      "    body=[\n",
      "      Expr(value=Str(s='My Docstring')),\n",
      "      Assign(\n",
      "        targets=[Name(\n",
      "          id='my_value',\n",
      "          ctx=Store())],\n",
      "        value=Num(n=420)),\n",
      "      Return(value=Name(\n",
      "        id='my_value',\n",
      "        ctx=Load()))],\n",
      "    decorator_list=[Name(\n",
      "      id='my_decorator',\n",
      "      ctx=Load())],\n",
      "    returns=None),\n",
      "  FunctionDef(\n",
      "    name='foo',\n",
      "    args=arguments(\n",
      "      args=[],\n",
      "      vararg=None,\n",
      "      kwonlyargs=[],\n",
      "      kw_defaults=[],\n",
      "      kwarg=None,\n",
      "      defaults=[]),\n",
      "    body=[Pass()],\n",
      "    decorator_list=[],\n",
      "    returns=None),\n",
      "  FunctionDef(\n",
      "    name='bar',\n",
      "    args=arguments(\n",
      "      args=[],\n",
      "      vararg=None,\n",
      "      kwonlyargs=[],\n",
      "      kw_defaults=[],\n",
      "      kwarg=None,\n",
      "      defaults=[]),\n",
      "    body=[Pass()],\n",
      "    decorator_list=[\n",
      "      Name(\n",
      "        id='Some_decorator',\n",
      "        ctx=Load()),\n",
      "      Name(\n",
      "        id='Another_decorator',\n",
      "        ctx=Load())],\n",
      "    returns=None),\n",
      "  FunctionDef(\n",
      "    name='baz',\n",
      "    args=arguments(\n",
      "      args=[],\n",
      "      vararg=None,\n",
      "      kwonlyargs=[],\n",
      "      kw_defaults=[],\n",
      "      kwarg=None,\n",
      "      defaults=[]),\n",
      "    body=[Pass()],\n",
      "    decorator_list=[Attribute(\n",
      "      value=Attribute(\n",
      "        value=Name(\n",
      "          id='MyClass',\n",
      "          ctx=Load()),\n",
      "        attr='subpackage',\n",
      "        ctx=Load()),\n",
      "      attr='my_deco_function',\n",
      "      ctx=Load())],\n",
      "    returns=None)])\n"
     ]
    }
   ],
   "source": [
    "import astunparse\n",
    "print(astunparse.dump(tree))"
   ]
  },
  {
   "cell_type": "markdown",
   "metadata": {},
   "source": [
    "We want to look at function definitions which are aptly named FunctionDef in the ASDL and represented as FunctionDef objects in the tree. Looking at the ASDL we see the following deifnition for FunctionDef (reformatted):\n",
    "\n",
    "    FunctionDef(identifier name,\n",
    "                arguments args,\n",
    "                stmt* body,\n",
    "                expr* decorator_list,\n",
    "                expr? returns,\n",
    "                string? docstring)\n",
    "                \n",
    "Which seems to correspond to the structure of the object in the AST as shown in the astunparse dump above. There is some documentation at a place called [Green Tree Snakes](https://greentreesnakes.readthedocs.io/en/latest/nodes.html#function-and-class-definitions) which explains the components of the FunctionDef object."
   ]
  },
  {
   "cell_type": "markdown",
   "metadata": {},
   "source": [
    "# Traversing and inspecting the tree\n",
    "\n",
    "There are two ways to work with the tree. The easiest is `ast.walk()` which \"Recursively yield all descendant nodes in the tree starting at node (including node itself), in no specified order.\" and apparently does so breadth first. Alternatively you can subclass the `ast.NodeVisitor` class. This class provides a `visit()` method which does a depth first traversal. You can override `visit_<Class_Name>` which are called whenever the traversal hits a node of that class."
   ]
  },
  {
   "cell_type": "code",
   "execution_count": 5,
   "metadata": {},
   "outputs": [
    {
     "name": "stdout",
     "output_type": "stream",
     "text": [
      "Using NodeVisitor (depth first):\n",
      "Nodetype: Module           <_ast.Module object at 0x10ec9d668>\n",
      "Nodetype: FunctionDef      <_ast.FunctionDef object at 0x10ec9d6a0>\n",
      "Nodetype: arguments        <_ast.arguments object at 0x10ec9d6d8>\n",
      "Nodetype: arg              <_ast.arg object at 0x10ec9d710>\n",
      "Nodetype: Expr             <_ast.Expr object at 0x10ec9d748>\n",
      "Nodetype: Str              <_ast.Str object at 0x10ec9d780>\n",
      "Nodetype: Assign           <_ast.Assign object at 0x10ec9d7b8>\n",
      "Nodetype: Name             <_ast.Name object at 0x10ec9d7f0>\n",
      "Nodetype: Store            <_ast.Store object at 0x10d24e780>\n",
      "Nodetype: Num              <_ast.Num object at 0x10ec9d828>\n",
      "Nodetype: Return           <_ast.Return object at 0x10ec9d860>\n",
      "Nodetype: Name             <_ast.Name object at 0x10ec9d898>\n",
      "Nodetype: Load             <_ast.Load object at 0x10d24e668>\n",
      "Nodetype: Name             <_ast.Name object at 0x10ec9d8d0>\n",
      "Nodetype: Load             <_ast.Load object at 0x10d24e668>\n",
      "Nodetype: FunctionDef      <_ast.FunctionDef object at 0x10ec9d908>\n",
      "Nodetype: arguments        <_ast.arguments object at 0x10ec9d940>\n",
      "Nodetype: Pass             <_ast.Pass object at 0x10ec9d978>\n",
      "Nodetype: FunctionDef      <_ast.FunctionDef object at 0x10ec9d9b0>\n",
      "Nodetype: arguments        <_ast.arguments object at 0x10ec9d9e8>\n",
      "Nodetype: Pass             <_ast.Pass object at 0x10ec9da20>\n",
      "Nodetype: Name             <_ast.Name object at 0x10ec9da58>\n",
      "Nodetype: Load             <_ast.Load object at 0x10d24e668>\n",
      "Nodetype: Name             <_ast.Name object at 0x10ec9da90>\n",
      "Nodetype: Load             <_ast.Load object at 0x10d24e668>\n",
      "Nodetype: FunctionDef      <_ast.FunctionDef object at 0x10ec9dac8>\n",
      "Nodetype: arguments        <_ast.arguments object at 0x10ec9db00>\n",
      "Nodetype: Pass             <_ast.Pass object at 0x10ec9db38>\n",
      "Nodetype: Attribute        <_ast.Attribute object at 0x10ec9db70>\n",
      "Nodetype: Attribute        <_ast.Attribute object at 0x10ec9dba8>\n",
      "Nodetype: Name             <_ast.Name object at 0x10ec9dbe0>\n",
      "Nodetype: Load             <_ast.Load object at 0x10d24e668>\n",
      "Nodetype: Load             <_ast.Load object at 0x10d24e668>\n",
      "Nodetype: Load             <_ast.Load object at 0x10d24e668>\n",
      "\n",
      "Walk()ing the tree breadth first:\n",
      "Nodetype: Module           <_ast.Module object at 0x10ec9d668>\n",
      "Nodetype: FunctionDef      <_ast.FunctionDef object at 0x10ec9d6a0>\n",
      "Nodetype: FunctionDef      <_ast.FunctionDef object at 0x10ec9d908>\n",
      "Nodetype: FunctionDef      <_ast.FunctionDef object at 0x10ec9d9b0>\n",
      "Nodetype: FunctionDef      <_ast.FunctionDef object at 0x10ec9dac8>\n",
      "Nodetype: arguments        <_ast.arguments object at 0x10ec9d6d8>\n",
      "Nodetype: Expr             <_ast.Expr object at 0x10ec9d748>\n",
      "Nodetype: Assign           <_ast.Assign object at 0x10ec9d7b8>\n",
      "Nodetype: Return           <_ast.Return object at 0x10ec9d860>\n",
      "Nodetype: Name             <_ast.Name object at 0x10ec9d8d0>\n",
      "Nodetype: arguments        <_ast.arguments object at 0x10ec9d940>\n",
      "Nodetype: Pass             <_ast.Pass object at 0x10ec9d978>\n",
      "Nodetype: arguments        <_ast.arguments object at 0x10ec9d9e8>\n",
      "Nodetype: Pass             <_ast.Pass object at 0x10ec9da20>\n",
      "Nodetype: Name             <_ast.Name object at 0x10ec9da58>\n",
      "Nodetype: Name             <_ast.Name object at 0x10ec9da90>\n",
      "Nodetype: arguments        <_ast.arguments object at 0x10ec9db00>\n",
      "Nodetype: Pass             <_ast.Pass object at 0x10ec9db38>\n",
      "Nodetype: Attribute        <_ast.Attribute object at 0x10ec9db70>\n",
      "Nodetype: arg              <_ast.arg object at 0x10ec9d710>\n",
      "Nodetype: Str              <_ast.Str object at 0x10ec9d780>\n",
      "Nodetype: Name             <_ast.Name object at 0x10ec9d7f0>\n",
      "Nodetype: Num              <_ast.Num object at 0x10ec9d828>\n",
      "Nodetype: Name             <_ast.Name object at 0x10ec9d898>\n",
      "Nodetype: Load             <_ast.Load object at 0x10d24e668>\n",
      "Nodetype: Load             <_ast.Load object at 0x10d24e668>\n",
      "Nodetype: Load             <_ast.Load object at 0x10d24e668>\n",
      "Nodetype: Attribute        <_ast.Attribute object at 0x10ec9dba8>\n",
      "Nodetype: Load             <_ast.Load object at 0x10d24e668>\n",
      "Nodetype: Store            <_ast.Store object at 0x10d24e780>\n",
      "Nodetype: Load             <_ast.Load object at 0x10d24e668>\n",
      "Nodetype: Name             <_ast.Name object at 0x10ec9dbe0>\n",
      "Nodetype: Load             <_ast.Load object at 0x10d24e668>\n",
      "Nodetype: Load             <_ast.Load object at 0x10d24e668>\n"
     ]
    }
   ],
   "source": [
    "class MyVisitor(ast.NodeVisitor):\n",
    "    def generic_visit(self, node):\n",
    "        print(f'Nodetype: {type(node).__name__:{16}} {node}')\n",
    "        ast.NodeVisitor.generic_visit(self, node)\n",
    "        \n",
    "\n",
    "v = MyVisitor()\n",
    "print('Using NodeVisitor (depth first):')\n",
    "v.visit(tree)\n",
    "\n",
    "print('\\nWalk()ing the tree breadth first:')\n",
    "for node in ast.walk(tree):\n",
    "    print(f'Nodetype: {type(node).__name__:{16}} {node}')"
   ]
  },
  {
   "cell_type": "markdown",
   "metadata": {},
   "source": [
    "For our purposes we should be able to use the walk method, I find it simpler to use for now. Let;s see what happens if we grab those `FunctionDef` objects and inspect them in the same way. Using the `unparse()` methof of astunparse we can transform it back into source code for extra fun."
   ]
  },
  {
   "cell_type": "code",
   "execution_count": 6,
   "metadata": {},
   "outputs": [
    {
     "name": "stdout",
     "output_type": "stream",
     "text": [
      "Nodetype: FunctionDef      <_ast.FunctionDef object at 0x10ec9d6a0>\n",
      "\n",
      "\n",
      "@my_decorator\n",
      "def my_function(my_argument):\n",
      "    'My Docstring'\n",
      "    my_value = 420\n",
      "    return my_value\n",
      "\n",
      "Nodetype: FunctionDef      <_ast.FunctionDef object at 0x10ec9d908>\n",
      "\n",
      "\n",
      "def foo():\n",
      "    pass\n",
      "\n",
      "Nodetype: FunctionDef      <_ast.FunctionDef object at 0x10ec9d9b0>\n",
      "\n",
      "\n",
      "@Some_decorator\n",
      "@Another_decorator\n",
      "def bar():\n",
      "    pass\n",
      "\n",
      "Nodetype: FunctionDef      <_ast.FunctionDef object at 0x10ec9dac8>\n",
      "\n",
      "\n",
      "@MyClass.subpackage.my_deco_function\n",
      "def baz():\n",
      "    pass\n",
      "\n"
     ]
    }
   ],
   "source": [
    "for node in ast.walk(tree):\n",
    "    if isinstance(node, ast.FunctionDef):\n",
    "        print(f'Nodetype: {type(node).__name__:{16}} {node}')\n",
    "        print(astunparse.unparse(node))"
   ]
  },
  {
   "cell_type": "markdown",
   "metadata": {},
   "source": [
    "We wanted to only grab functions who have a certain decorator, so we need to inspect the `decorator_list` attribute of the `FunctionDef` class."
   ]
  },
  {
   "cell_type": "code",
   "execution_count": 7,
   "metadata": {},
   "outputs": [
    {
     "name": "stdout",
     "output_type": "stream",
     "text": [
      "my_function ['my_decorator']\n",
      "foo []\n",
      "bar ['Some_decorator', 'Another_decorator']\n"
     ]
    },
    {
     "ename": "AttributeError",
     "evalue": "'Attribute' object has no attribute 'id'",
     "output_type": "error",
     "traceback": [
      "\u001b[0;31m---------------------------------------------------------------------------\u001b[0m",
      "\u001b[0;31mAttributeError\u001b[0m                            Traceback (most recent call last)",
      "\u001b[0;32m<ipython-input-7-666517aaaecf>\u001b[0m in \u001b[0;36m<module>\u001b[0;34m()\u001b[0m\n\u001b[1;32m      1\u001b[0m \u001b[0;32mfor\u001b[0m \u001b[0mnode\u001b[0m \u001b[0;32min\u001b[0m \u001b[0mast\u001b[0m\u001b[0;34m.\u001b[0m\u001b[0mwalk\u001b[0m\u001b[0;34m(\u001b[0m\u001b[0mtree\u001b[0m\u001b[0;34m)\u001b[0m\u001b[0;34m:\u001b[0m\u001b[0;34m\u001b[0m\u001b[0m\n\u001b[1;32m      2\u001b[0m     \u001b[0;32mif\u001b[0m \u001b[0misinstance\u001b[0m\u001b[0;34m(\u001b[0m\u001b[0mnode\u001b[0m\u001b[0;34m,\u001b[0m \u001b[0mast\u001b[0m\u001b[0;34m.\u001b[0m\u001b[0mFunctionDef\u001b[0m\u001b[0;34m)\u001b[0m\u001b[0;34m:\u001b[0m\u001b[0;34m\u001b[0m\u001b[0m\n\u001b[0;32m----> 3\u001b[0;31m         \u001b[0mdecorators\u001b[0m \u001b[0;34m=\u001b[0m \u001b[0;34m[\u001b[0m\u001b[0md\u001b[0m\u001b[0;34m.\u001b[0m\u001b[0mid\u001b[0m \u001b[0;32mfor\u001b[0m \u001b[0md\u001b[0m \u001b[0;32min\u001b[0m \u001b[0mnode\u001b[0m\u001b[0;34m.\u001b[0m\u001b[0mdecorator_list\u001b[0m\u001b[0;34m]\u001b[0m\u001b[0;34m\u001b[0m\u001b[0m\n\u001b[0m\u001b[1;32m      4\u001b[0m         \u001b[0mprint\u001b[0m\u001b[0;34m(\u001b[0m\u001b[0mnode\u001b[0m\u001b[0;34m.\u001b[0m\u001b[0mname\u001b[0m\u001b[0;34m,\u001b[0m \u001b[0mdecorators\u001b[0m\u001b[0;34m)\u001b[0m\u001b[0;34m\u001b[0m\u001b[0m\n",
      "\u001b[0;32m<ipython-input-7-666517aaaecf>\u001b[0m in \u001b[0;36m<listcomp>\u001b[0;34m(.0)\u001b[0m\n\u001b[1;32m      1\u001b[0m \u001b[0;32mfor\u001b[0m \u001b[0mnode\u001b[0m \u001b[0;32min\u001b[0m \u001b[0mast\u001b[0m\u001b[0;34m.\u001b[0m\u001b[0mwalk\u001b[0m\u001b[0;34m(\u001b[0m\u001b[0mtree\u001b[0m\u001b[0;34m)\u001b[0m\u001b[0;34m:\u001b[0m\u001b[0;34m\u001b[0m\u001b[0m\n\u001b[1;32m      2\u001b[0m     \u001b[0;32mif\u001b[0m \u001b[0misinstance\u001b[0m\u001b[0;34m(\u001b[0m\u001b[0mnode\u001b[0m\u001b[0;34m,\u001b[0m \u001b[0mast\u001b[0m\u001b[0;34m.\u001b[0m\u001b[0mFunctionDef\u001b[0m\u001b[0;34m)\u001b[0m\u001b[0;34m:\u001b[0m\u001b[0;34m\u001b[0m\u001b[0m\n\u001b[0;32m----> 3\u001b[0;31m         \u001b[0mdecorators\u001b[0m \u001b[0;34m=\u001b[0m \u001b[0;34m[\u001b[0m\u001b[0md\u001b[0m\u001b[0;34m.\u001b[0m\u001b[0mid\u001b[0m \u001b[0;32mfor\u001b[0m \u001b[0md\u001b[0m \u001b[0;32min\u001b[0m \u001b[0mnode\u001b[0m\u001b[0;34m.\u001b[0m\u001b[0mdecorator_list\u001b[0m\u001b[0;34m]\u001b[0m\u001b[0;34m\u001b[0m\u001b[0m\n\u001b[0m\u001b[1;32m      4\u001b[0m         \u001b[0mprint\u001b[0m\u001b[0;34m(\u001b[0m\u001b[0mnode\u001b[0m\u001b[0;34m.\u001b[0m\u001b[0mname\u001b[0m\u001b[0;34m,\u001b[0m \u001b[0mdecorators\u001b[0m\u001b[0;34m)\u001b[0m\u001b[0;34m\u001b[0m\u001b[0m\n",
      "\u001b[0;31mAttributeError\u001b[0m: 'Attribute' object has no attribute 'id'"
     ]
    }
   ],
   "source": [
    "for node in ast.walk(tree):\n",
    "    if isinstance(node, ast.FunctionDef):\n",
    "        decorators = [d.id for d in node.decorator_list]\n",
    "        print(node.name, decorators)"
   ]
  },
  {
   "cell_type": "markdown",
   "metadata": {},
   "source": [
    "So looking more closely there is a different representation in the AST for a single keyword (`@function`) decorator as there is for a compound (`@Class.method`).\n",
    "Compare the decorator in `my_function`:\n",
    "\n",
    "    decorator_list=[Name(\n",
    "          id='my_decorator',\n",
    "          ctx=Load())]\n",
    "\n",
    "against the compound decorator in `baz`:\n",
    "\n",
    "    decorator_list=[Attribute(\n",
    "          value=Attribute(\n",
    "            value=Name(\n",
    "              id='MyClass',\n",
    "              ctx=Load()),\n",
    "            attr='subpackage',\n",
    "            ctx=Load()),\n",
    "          attr='my_deco_function',\n",
    "          ctx=Load())]\n",
    "          \n",
    "So we need to modify our treewalk to acomodate for this. When the top level element in the decorator_liist is of type `Name`, we grab the id and be done with it. If it is of type `Attribute` we need to do some more extra work. From the ASDL we can see that Attribute is a nested element:\n",
    "\n",
    "    Attribute(expr value, identifier attr, expr_context ctx)\n",
    "    \n",
    "Assuming it's nested `ast.Attribute`s with a `ast.Name` at the root we can define a flattening function."
   ]
  },
  {
   "cell_type": "code",
   "execution_count": 8,
   "metadata": {
    "collapsed": true
   },
   "outputs": [],
   "source": [
    "def flatten_attr(node):\n",
    "    if isinstance(node, ast.Attribute):\n",
    "        return str(flatten_attr(node.value)) + '.' + node.attr\n",
    "    elif isinstance(node, ast.Name):\n",
    "        return str(node.id)\n",
    "    else:\n",
    "        pass"
   ]
  },
  {
   "cell_type": "code",
   "execution_count": 9,
   "metadata": {},
   "outputs": [
    {
     "name": "stdout",
     "output_type": "stream",
     "text": [
      "my_function ['my_decorator']\n",
      "foo []\n",
      "bar ['Some_decorator', 'Another_decorator']\n",
      "baz ['MyClass.subpackage.my_deco_function']\n"
     ]
    }
   ],
   "source": [
    "for node in ast.walk(tree):\n",
    "    if isinstance(node, ast.FunctionDef):\n",
    "        found_decorators = []\n",
    "        for decorator in node.decorator_list:\n",
    "            if isinstance(decorator, ast.Name):\n",
    "                found_decorators.append(decorator.id)\n",
    "            elif isinstance(decorator, ast.Attribute):\n",
    "                    found_decorators.append(flatten_attr(decorator))\n",
    "            \n",
    "                \n",
    "        print(node.name, found_decorators)"
   ]
  },
  {
   "cell_type": "markdown",
   "metadata": {},
   "source": [
    "The actual sources I want to parse have an additional complication, the decorator functions have arguments passed into them. And I want to know what's in them as well. So let's switch to some actual source code and see how to do that. I have removed the body of the function as we are only interested in the decorator now."
   ]
  },
  {
   "cell_type": "code",
   "execution_count": 10,
   "metadata": {},
   "outputs": [
    {
     "name": "stdout",
     "output_type": "stream",
     "text": [
      "Module(body=[FunctionDef(\n",
      "  name='list',\n",
      "  args=arguments(\n",
      "    args=[\n",
      "      arg(\n",
      "        arg='request',\n",
      "        annotation=None),\n",
      "      arg(\n",
      "        arg='response',\n",
      "        annotation=None)],\n",
      "    vararg=None,\n",
      "    kwonlyargs=[],\n",
      "    kw_defaults=[],\n",
      "    kwarg=None,\n",
      "    defaults=[]),\n",
      "  body=[Pass()],\n",
      "  decorator_list=[Call(\n",
      "    func=Attribute(\n",
      "      value=Name(\n",
      "        id='Route',\n",
      "        ctx=Load()),\n",
      "      attr='get',\n",
      "      ctx=Load()),\n",
      "    args=[Str(s='/projects/{project_id}/snapshots')],\n",
      "    keywords=[\n",
      "      keyword(\n",
      "        arg='description',\n",
      "        value=Str(s='List snapshots of a project')),\n",
      "      keyword(\n",
      "        arg='parameters',\n",
      "        value=Dict(\n",
      "          keys=[Str(s='project_id')],\n",
      "          values=[Str(s='Project UUID')])),\n",
      "      keyword(\n",
      "        arg='status_codes',\n",
      "        value=Dict(\n",
      "          keys=[\n",
      "            Num(n=200),\n",
      "            Num(n=404)],\n",
      "          values=[\n",
      "            Str(s='Snasphot list returned'),\n",
      "            Str(s=\"The project doesn't exist\")]))])],\n",
      "  returns=None)])\n"
     ]
    }
   ],
   "source": [
    "source = \"\"\"\n",
    "@Route.get(\n",
    "    r\"/projects/{project_id}/snapshots\",\n",
    "    description=\"List snapshots of a project\",\n",
    "    parameters={\n",
    "        \"project_id\": \"Project UUID\",\n",
    "    },\n",
    "    status_codes={\n",
    "        200: \"Snasphot list returned\",\n",
    "        404: \"The project doesn't exist\"\n",
    "    })\n",
    "def list(request, response):\n",
    "    pass\"\"\"\n",
    "\n",
    "print(astunparse.dump(ast.parse(source)))"
   ]
  },
  {
   "cell_type": "markdown",
   "metadata": {},
   "source": [
    "We find the decorator_list to contain a `ast.Call` object rather than a Name or Attribute. This corresponds to the signature of the called decorator function. I am interested in the first positional argument as well as the keyword arguments. Let's grab the [0] element of the decorator list to simplify."
   ]
  },
  {
   "cell_type": "code",
   "execution_count": 11,
   "metadata": {},
   "outputs": [
    {
     "name": "stdout",
     "output_type": "stream",
     "text": [
      "Call(\n",
      "  func=Attribute(\n",
      "    value=Name(\n",
      "      id='Route',\n",
      "      ctx=Load()),\n",
      "    attr='get',\n",
      "    ctx=Load()),\n",
      "  args=[Str(s='/projects/{project_id}/snapshots')],\n",
      "  keywords=[\n",
      "    keyword(\n",
      "      arg='description',\n",
      "      value=Str(s='List snapshots of a project')),\n",
      "    keyword(\n",
      "      arg='parameters',\n",
      "      value=Dict(\n",
      "        keys=[Str(s='project_id')],\n",
      "        values=[Str(s='Project UUID')])),\n",
      "    keyword(\n",
      "      arg='status_codes',\n",
      "      value=Dict(\n",
      "        keys=[\n",
      "          Num(n=200),\n",
      "          Num(n=404)],\n",
      "        values=[\n",
      "          Str(s='Snasphot list returned'),\n",
      "          Str(s=\"The project doesn't exist\")]))])\n"
     ]
    }
   ],
   "source": [
    "complex_decorator = ast.parse(source).body[0].decorator_list[0]\n",
    "print(astunparse.dump(complex_decorator))"
   ]
  },
  {
   "cell_type": "code",
   "execution_count": 21,
   "metadata": {},
   "outputs": [
    {
     "name": "stdout",
     "output_type": "stream",
     "text": [
      "Route.get /projects/{project_id}/snapshots\n",
      "Parameters:\n",
      "  project_id: Project UUID\n",
      "Status Codes:\n",
      "  200: Snasphot list returned\n",
      "  404: The project doesn't exist\n"
     ]
    }
   ],
   "source": [
    "decorator_name = flatten_attr(complex_decorator.func)\n",
    "decorator_path = complex_decorator.args[0].s\n",
    "for kw in complex_decorator.keywords:\n",
    "    if kw.arg == 'description':\n",
    "        decorator_description = kw.value.s\n",
    "    if kw.arg == 'parameters':\n",
    "        decorator_parameters = ast.literal_eval(astunparse.unparse(kw.value))\n",
    "    if kw.arg == 'status_codes':\n",
    "        decorator_statuscodes = ast.literal_eval(astunparse.unparse(kw.value))\n",
    "\n",
    "print(decorator_name, decorator_path)\n",
    "print('Parameters:')\n",
    "for p in decorator_parameters.keys():\n",
    "    print('  ' + str(p) + ': ' + decorator_parameters[p])    \n",
    "print('Status Codes:')\n",
    "for sc in decorator_statuscodes.keys():\n",
    "    print('  ' + str(sc) + ': ' + decorator_statuscodes[sc])"
   ]
  },
  {
   "cell_type": "markdown",
   "metadata": {},
   "source": [
    "Time to bring it all together and write a function that takes a filename and a decorator as argument and spits out a list of tuples which hold the:\n",
    "\n",
    "- Function name (str)\n",
    "- description for the given decorator (str)\n",
    "- parameters for the decorator (dict)\n",
    "- status codes for the decorator (dict)\n",
    "\n",
    "for every function in the sourcefile which is decorated with that decorator."
   ]
  },
  {
   "cell_type": "code",
   "execution_count": 19,
   "metadata": {},
   "outputs": [
    {
     "name": "stdout",
     "output_type": "stream",
     "text": [
      "controller/compute_handler.py  create               /computes                               \n",
      "controller/compute_handler.py  post_forward         /computes/{compute_id}/{emulator}/{action:.+}\n",
      "controller/drawing_handler.py  create               /projects/{project_id}/drawings         \n",
      "controller/link_handler.py  create               /projects/{project_id}/links            \n",
      "controller/link_handler.py  start_capture        /projects/{project_id}/links/{link_id}/start_capture\n",
      "controller/link_handler.py  stop_capture         /projects/{project_id}/links/{link_id}/stop_capture\n",
      "controller/node_handler.py  create               /projects/{project_id}/nodes            \n",
      "controller/node_handler.py  start_all            /projects/{project_id}/nodes/start      \n",
      "controller/node_handler.py  stop_all             /projects/{project_id}/nodes/stop       \n",
      "controller/node_handler.py  suspend_all          /projects/{project_id}/nodes/suspend    \n",
      "controller/node_handler.py  reload_all           /projects/{project_id}/nodes/reload     \n",
      "controller/node_handler.py  start                /projects/{project_id}/nodes/{node_id}/start\n",
      "controller/node_handler.py  stop                 /projects/{project_id}/nodes/{node_id}/stop\n",
      "controller/node_handler.py  suspend              /projects/{project_id}/nodes/{node_id}/suspend\n",
      "controller/node_handler.py  reload               /projects/{project_id}/nodes/{node_id}/reload\n",
      "controller/node_handler.py  post_file            /projects/{project_id}/nodes/{node_id}/files/{path:.+}\n",
      "controller/project_handler.py  create_project       /projects                               \n",
      "controller/project_handler.py  close                /projects/{project_id}/close            \n",
      "controller/project_handler.py  open                 /projects/{project_id}/open             \n",
      "controller/project_handler.py  load                 /projects/load                          \n",
      "controller/project_handler.py  import_project       /projects/{project_id}/import           \n",
      "controller/project_handler.py  duplicate            /projects/{project_id}/duplicate        \n",
      "controller/project_handler.py  write_file           /projects/{project_id}/files/{path:.+}  \n",
      "controller/server_handler.py  shutdown             /shutdown                               \n",
      "controller/server_handler.py  check_version        /version                                \n",
      "controller/server_handler.py  write_settings       /settings                               \n",
      "controller/server_handler.py  debug                /debug                                  \n",
      "controller/symbol_handler.py  upload               /symbols/{symbol_id:.+}/raw             \n"
     ]
    }
   ],
   "source": [
    "import collections\n",
    "\n",
    "Route = collections.namedtuple('Route', 'filename function_name path description parameters status_codes')\n",
    "\n",
    "def extract_routes(file, decorator_name):\n",
    "    routes = []\n",
    "    filename = file\n",
    "    with open(file) as f:\n",
    "        try:\n",
    "            tree = ast.parse(f.read())\n",
    "        except:\n",
    "            return routes\n",
    "            \n",
    "    for node in ast.walk(tree):\n",
    "        if isinstance(node, ast.FunctionDef):\n",
    "            funcname = node.name\n",
    "            for d in node.decorator_list:\n",
    "                if isinstance(d, ast.Call):\n",
    "                    if flatten_attr(d.func) == decorator_name:\n",
    "                        route_path = d.args[0].s\n",
    "                        description = None\n",
    "                        parameters = None\n",
    "                        statuscodes = None\n",
    "                        for kw in d.keywords:\n",
    "                            if kw.arg == 'description':\n",
    "                                description = kw.value.s\n",
    "                            if kw.arg == 'parameters':\n",
    "                                parameters = ast.literal_eval(astunparse.unparse(kw.value))\n",
    "                            if kw.arg == 'status_codes':\n",
    "                                statuscodes = ast.literal_eval(astunparse.unparse(kw.value))\n",
    "                        r = Route(filename, funcname, route_path, description, parameters, statuscodes)\n",
    "                        routes.append(r)\n",
    "    \n",
    "    return routes\n",
    "\n",
    "get_routes = []\n",
    "from pathlib import Path\n",
    "\n",
    "pathlist = Path('./controller').glob('*.py')\n",
    "for path in pathlist:\n",
    "    # because path is object not string\n",
    "    filename = str(path)\n",
    "    get_routes += extract_routes(filename, 'Route.post')\n",
    "\n",
    "for route in get_routes:\n",
    "    print(f'{route.filename}  {route.function_name:{20}} {route.path:{40}}')"
   ]
  },
  {
   "cell_type": "code",
   "execution_count": null,
   "metadata": {
    "collapsed": true
   },
   "outputs": [],
   "source": []
  }
 ],
 "metadata": {
  "kernelspec": {
   "display_name": "Python 3",
   "language": "python",
   "name": "python3"
  },
  "language_info": {
   "codemirror_mode": {
    "name": "ipython",
    "version": 3
   },
   "file_extension": ".py",
   "mimetype": "text/x-python",
   "name": "python",
   "nbconvert_exporter": "python",
   "pygments_lexer": "ipython3",
   "version": "3.6.2"
  }
 },
 "nbformat": 4,
 "nbformat_minor": 2
}
